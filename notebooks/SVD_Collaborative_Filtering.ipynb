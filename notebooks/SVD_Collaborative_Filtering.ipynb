{
  "nbformat": 4,
  "nbformat_minor": 0,
  "metadata": {
    "colab": {
      "name": "SVD_Collaborative_Filtering.ipynb",
      "provenance": []
    },
    "kernelspec": {
      "name": "python3",
      "display_name": "Python 3"
    },
    "language_info": {
      "name": "python"
    }
  },
  "cells": [
    {
      "cell_type": "code",
      "metadata": {
        "colab": {
          "base_uri": "https://localhost:8080/"
        },
        "id": "XLJg7jY4-dq-",
        "outputId": "e449890d-16bb-492f-d3be-fd2c3ba646d2"
      },
      "source": [
        "!pip install scikit-surprise"
      ],
      "execution_count": null,
      "outputs": [
        {
          "output_type": "stream",
          "text": [
            "Requirement already satisfied: scikit-surprise in /usr/local/lib/python3.7/dist-packages (1.1.1)\n",
            "Requirement already satisfied: joblib>=0.11 in /usr/local/lib/python3.7/dist-packages (from scikit-surprise) (1.0.1)\n",
            "Requirement already satisfied: scipy>=1.0.0 in /usr/local/lib/python3.7/dist-packages (from scikit-surprise) (1.4.1)\n",
            "Requirement already satisfied: numpy>=1.11.2 in /usr/local/lib/python3.7/dist-packages (from scikit-surprise) (1.19.5)\n",
            "Requirement already satisfied: six>=1.10.0 in /usr/local/lib/python3.7/dist-packages (from scikit-surprise) (1.15.0)\n"
          ],
          "name": "stdout"
        }
      ]
    },
    {
      "cell_type": "code",
      "metadata": {
        "colab": {
          "base_uri": "https://localhost:8080/"
        },
        "id": "iv9rt5fh-syK",
        "outputId": "f7510810-d1a2-4fb6-8853-e234ff058aee"
      },
      "source": [
        "from google.colab import drive\n",
        "drive.mount('/content/gdrive')\n",
        "!pip freeze --local > /content/gdrive/My\\ Drive/colab_installed.txt"
      ],
      "execution_count": null,
      "outputs": [
        {
          "output_type": "stream",
          "text": [
            "Drive already mounted at /content/gdrive; to attempt to forcibly remount, call drive.mount(\"/content/gdrive\", force_remount=True).\n"
          ],
          "name": "stdout"
        }
      ]
    },
    {
      "cell_type": "code",
      "metadata": {
        "id": "d0Q4bKKR-Snh"
      },
      "source": [
        "from surprise import BaselineOnly\n",
        "from surprise import Dataset\n",
        "from surprise import Reader\n",
        "from surprise import accuracy\n",
        "from surprise import SVD\n",
        "from surprise.model_selection import train_test_split\n",
        "from surprise.model_selection import KFold\n",
        "from surprise.model_selection import cross_validate\n",
        "from surprise.model_selection import GridSearchCV\n",
        "import pandas as pd\n",
        "import os\n",
        "import numpy as np\n",
        "from collections import defaultdict"
      ],
      "execution_count": null,
      "outputs": []
    },
    {
      "cell_type": "code",
      "metadata": {
        "id": "_l3B-lXn-aAu"
      },
      "source": [
        "ratings_file = \"/content/gdrive/MyDrive/users.csv\"\n",
        "df = pd.read_csv(ratings_file)\n"
      ],
      "execution_count": null,
      "outputs": []
    },
    {
      "cell_type": "code",
      "metadata": {
        "id": "_oq4uiUP-4pq"
      },
      "source": [
        "reader = Reader(line_format='user item rating', sep=',', rating_scale=(0, 100))\n",
        "\n",
        "# data = Dataset.load_from_file(file_path, reader=reader)\n",
        "data = Dataset.load_from_df(df[['user_id', 'artist_name', 'rating']], reader)\n",
        "\n",
        "trainset, testset = train_test_split(data, test_size=.2)"
      ],
      "execution_count": null,
      "outputs": []
    },
    {
      "cell_type": "code",
      "metadata": {
        "colab": {
          "base_uri": "https://localhost:8080/"
        },
        "id": "EC0Cewxg_Wvo",
        "outputId": "edf15f1d-d2fa-4530-c4c0-533307c5e9c5"
      },
      "source": [
        "# kf = KFold(n_splits=3)\n",
        "\n",
        "algo = SVD()\n",
        "\n",
        "\n",
        "algo.fit(trainset)\n",
        "predictions = algo.test(testset)\n",
        "\n",
        "# Then compute RMSE\n",
        "accuracy.rmse(predictions)"
      ],
      "execution_count": null,
      "outputs": [
        {
          "output_type": "stream",
          "text": [
            "RMSE: 62.1644\n"
          ],
          "name": "stdout"
        },
        {
          "output_type": "execute_result",
          "data": {
            "text/plain": [
              "62.16439486002085"
            ]
          },
          "metadata": {
            "tags": []
          },
          "execution_count": 7
        }
      ]
    },
    {
      "cell_type": "code",
      "metadata": {
        "id": "K5bTlGtT_aBN"
      },
      "source": [
        "def get_top_n(predictions, n=10):\n",
        "    \"\"\"Return the top-N recommendation for each user from a set of predictions.\n",
        "\n",
        "    Args:\n",
        "        predictions(list of Prediction objects): The list of predictions, as\n",
        "            returned by the test method of an algorithm.\n",
        "        n(int): The number of recommendation to output for each user. Default\n",
        "            is 10.\n",
        "\n",
        "    Returns:\n",
        "    A dict where keys are user (raw) ids and values are lists of tuples:\n",
        "        [(raw item id, rating estimation), ...] of size n.\n",
        "    \"\"\"\n",
        "\n",
        "    # First map the predictions to each user.\n",
        "    top_n = defaultdict(list)\n",
        "    for uid, iid, true_r, est, _ in predictions:\n",
        "        top_n[uid].append((iid, est))\n",
        "\n",
        "    # Then sort the predictions for each user and retrieve the k highest ones.\n",
        "    for uid, user_ratings in top_n.items():\n",
        "        user_ratings.sort(key=lambda x: x[1], reverse=True)\n",
        "        top_n[uid] = user_ratings[:n]\n",
        "\n",
        "    return top_n\n"
      ],
      "execution_count": null,
      "outputs": []
    },
    {
      "cell_type": "code",
      "metadata": {
        "id": "LZwYRqGx_56m"
      },
      "source": [
        "# testset = trainset.build_anti_testset()\n",
        "# testset = df.head(100)\n",
        "# predictions = algo.test(testset)\n",
        "\n",
        "# top_n = get_top_n(predictions, n=10)\n",
        "# print(top_n)\n",
        "test = []\n",
        "for i in range(1,10000):\n",
        "  tup = (df.loc[i]['user_id'], df.loc[i]['artist_name'], df.loc[i]['rating'])\n",
        "  test.append(tup)\n",
        "predictions = algo.test(test)\n",
        "\n",
        "top_n = get_top_n(predictions, n=10)"
      ],
      "execution_count": null,
      "outputs": []
    },
    {
      "cell_type": "code",
      "metadata": {
        "id": "5WcL0XXV_6dp"
      },
      "source": [
        "new = pd.DataFrame.from_dict(top_n, orient='index')\n",
        "new.to_csv('/content/gdrive/MyDrive/SVD_2.csv')"
      ],
      "execution_count": null,
      "outputs": []
    },
    {
      "cell_type": "code",
      "metadata": {
        "id": "jOATK_otB4Oi"
      },
      "source": [
        "ratings_file = \"/content/gdrive/MyDrive/users.csv\"\n",
        "df = pd.read_csv(ratings_file)\n"
      ],
      "execution_count": null,
      "outputs": []
    }
  ]
}